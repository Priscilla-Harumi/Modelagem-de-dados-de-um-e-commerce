{
  "nbformat": 4,
  "nbformat_minor": 0,
  "metadata": {
    "colab": {
      "provenance": []
    },
    "kernelspec": {
      "name": "python3",
      "display_name": "Python 3"
    },
    "language_info": {
      "name": "python"
    }
  },
  "cells": [
    {
      "cell_type": "markdown",
      "source": [
        "# PREPARANDO O DATASET PARA MODELAGEM DE DADOS"
      ],
      "metadata": {
        "id": "TP1HXQCZX0zk"
      }
    },
    {
      "cell_type": "markdown",
      "source": [
        "Uma empresa de e-commerce precisa de uma análise de RFM (Recência, Frequência e Ticket Médio) dos seus clientes. O objetivo do projeto é processar um dataset em CSV contendo informações das transações e gerar um novo arquivo CSV com os dados dos clientes e suas respectivas métricas RFM. Esse projeto servirá como base para análises estratégicas e segmentação de clientes do e-commerce."
      ],
      "metadata": {
        "id": "Elf5E9-azxwP"
      }
    },
    {
      "cell_type": "code",
      "source": [
        "'''O trabalho foi dividido em 10 entregas e para cada entrega será necessário o uso de algumas bibliotecas.'''\n",
        "#Importação das bibliotecas necessárias:\n",
        "import pandas as pd  # Manipulação de dados\n",
        "import numpy as np  # Cálculo de percentis para detectar outliers\n",
        "import matplotlib.pyplot as plt  # Gráficos básicos\n",
        "import seaborn as sns  # Visualizações estatísticas\n",
        "import datetime  # Cálculo de recência"
      ],
      "metadata": {
        "id": "rrWDA03x0kws"
      },
      "execution_count": null,
      "outputs": []
    },
    {
      "cell_type": "markdown",
      "source": [
        "# Etapa 01. Leia o arquivo e inspecione os dados"
      ],
      "metadata": {
        "id": "IqSi-XZq4W5t"
      }
    },
    {
      "cell_type": "code",
      "source": [
        "df = pd.read_csv('/content/data.csv', encoding='ISO-8859-1')  # O encoding evita erros de caracteres"
      ],
      "metadata": {
        "id": "l_N4Y9Kh410e"
      },
      "execution_count": null,
      "outputs": []
    },
    {
      "cell_type": "code",
      "source": [
        "#Ver primeiras linhas\n",
        "df.head()"
      ],
      "metadata": {
        "colab": {
          "base_uri": "https://localhost:8080/",
          "height": 293
        },
        "id": "WbleDU1H5ONW",
        "outputId": "4d992c07-eac9-4f56-fd54-e6cc31c6e4d1"
      },
      "execution_count": null,
      "outputs": [
        {
          "output_type": "execute_result",
          "data": {
            "text/plain": [
              "  InvoiceNo StockCode                          Description  Quantity  \\\n",
              "0    536365    85123A   WHITE HANGING HEART T-LIGHT HOLDER         6   \n",
              "1    536365     71053                  WHITE METAL LANTERN         6   \n",
              "2    536365    84406B       CREAM CUPID HEARTS COAT HANGER         8   \n",
              "3    536365    84029G  KNITTED UNION FLAG HOT WATER BOTTLE         6   \n",
              "4    536365    84029E       RED WOOLLY HOTTIE WHITE HEART.         6   \n",
              "\n",
              "      InvoiceDate  UnitPrice  CustomerID         Country  \n",
              "0  12/1/2010 8:26       2.55     17850.0  United Kingdom  \n",
              "1  12/1/2010 8:26       3.39     17850.0  United Kingdom  \n",
              "2  12/1/2010 8:26       2.75     17850.0  United Kingdom  \n",
              "3  12/1/2010 8:26       3.39     17850.0  United Kingdom  \n",
              "4  12/1/2010 8:26       3.39     17850.0  United Kingdom  "
            ],
            "text/html": [
              "\n",
              "  <div id=\"df-5bd59ae9-67ca-473b-b29d-32b38ab47e02\" class=\"colab-df-container\">\n",
              "    <div>\n",
              "<style scoped>\n",
              "    .dataframe tbody tr th:only-of-type {\n",
              "        vertical-align: middle;\n",
              "    }\n",
              "\n",
              "    .dataframe tbody tr th {\n",
              "        vertical-align: top;\n",
              "    }\n",
              "\n",
              "    .dataframe thead th {\n",
              "        text-align: right;\n",
              "    }\n",
              "</style>\n",
              "<table border=\"1\" class=\"dataframe\">\n",
              "  <thead>\n",
              "    <tr style=\"text-align: right;\">\n",
              "      <th></th>\n",
              "      <th>InvoiceNo</th>\n",
              "      <th>StockCode</th>\n",
              "      <th>Description</th>\n",
              "      <th>Quantity</th>\n",
              "      <th>InvoiceDate</th>\n",
              "      <th>UnitPrice</th>\n",
              "      <th>CustomerID</th>\n",
              "      <th>Country</th>\n",
              "    </tr>\n",
              "  </thead>\n",
              "  <tbody>\n",
              "    <tr>\n",
              "      <th>0</th>\n",
              "      <td>536365</td>\n",
              "      <td>85123A</td>\n",
              "      <td>WHITE HANGING HEART T-LIGHT HOLDER</td>\n",
              "      <td>6</td>\n",
              "      <td>12/1/2010 8:26</td>\n",
              "      <td>2.55</td>\n",
              "      <td>17850.0</td>\n",
              "      <td>United Kingdom</td>\n",
              "    </tr>\n",
              "    <tr>\n",
              "      <th>1</th>\n",
              "      <td>536365</td>\n",
              "      <td>71053</td>\n",
              "      <td>WHITE METAL LANTERN</td>\n",
              "      <td>6</td>\n",
              "      <td>12/1/2010 8:26</td>\n",
              "      <td>3.39</td>\n",
              "      <td>17850.0</td>\n",
              "      <td>United Kingdom</td>\n",
              "    </tr>\n",
              "    <tr>\n",
              "      <th>2</th>\n",
              "      <td>536365</td>\n",
              "      <td>84406B</td>\n",
              "      <td>CREAM CUPID HEARTS COAT HANGER</td>\n",
              "      <td>8</td>\n",
              "      <td>12/1/2010 8:26</td>\n",
              "      <td>2.75</td>\n",
              "      <td>17850.0</td>\n",
              "      <td>United Kingdom</td>\n",
              "    </tr>\n",
              "    <tr>\n",
              "      <th>3</th>\n",
              "      <td>536365</td>\n",
              "      <td>84029G</td>\n",
              "      <td>KNITTED UNION FLAG HOT WATER BOTTLE</td>\n",
              "      <td>6</td>\n",
              "      <td>12/1/2010 8:26</td>\n",
              "      <td>3.39</td>\n",
              "      <td>17850.0</td>\n",
              "      <td>United Kingdom</td>\n",
              "    </tr>\n",
              "    <tr>\n",
              "      <th>4</th>\n",
              "      <td>536365</td>\n",
              "      <td>84029E</td>\n",
              "      <td>RED WOOLLY HOTTIE WHITE HEART.</td>\n",
              "      <td>6</td>\n",
              "      <td>12/1/2010 8:26</td>\n",
              "      <td>3.39</td>\n",
              "      <td>17850.0</td>\n",
              "      <td>United Kingdom</td>\n",
              "    </tr>\n",
              "  </tbody>\n",
              "</table>\n",
              "</div>\n",
              "    <div class=\"colab-df-buttons\">\n",
              "\n",
              "  <div class=\"colab-df-container\">\n",
              "    <button class=\"colab-df-convert\" onclick=\"convertToInteractive('df-5bd59ae9-67ca-473b-b29d-32b38ab47e02')\"\n",
              "            title=\"Convert this dataframe to an interactive table.\"\n",
              "            style=\"display:none;\">\n",
              "\n",
              "  <svg xmlns=\"http://www.w3.org/2000/svg\" height=\"24px\" viewBox=\"0 -960 960 960\">\n",
              "    <path d=\"M120-120v-720h720v720H120Zm60-500h600v-160H180v160Zm220 220h160v-160H400v160Zm0 220h160v-160H400v160ZM180-400h160v-160H180v160Zm440 0h160v-160H620v160ZM180-180h160v-160H180v160Zm440 0h160v-160H620v160Z\"/>\n",
              "  </svg>\n",
              "    </button>\n",
              "\n",
              "  <style>\n",
              "    .colab-df-container {\n",
              "      display:flex;\n",
              "      gap: 12px;\n",
              "    }\n",
              "\n",
              "    .colab-df-convert {\n",
              "      background-color: #E8F0FE;\n",
              "      border: none;\n",
              "      border-radius: 50%;\n",
              "      cursor: pointer;\n",
              "      display: none;\n",
              "      fill: #1967D2;\n",
              "      height: 32px;\n",
              "      padding: 0 0 0 0;\n",
              "      width: 32px;\n",
              "    }\n",
              "\n",
              "    .colab-df-convert:hover {\n",
              "      background-color: #E2EBFA;\n",
              "      box-shadow: 0px 1px 2px rgba(60, 64, 67, 0.3), 0px 1px 3px 1px rgba(60, 64, 67, 0.15);\n",
              "      fill: #174EA6;\n",
              "    }\n",
              "\n",
              "    .colab-df-buttons div {\n",
              "      margin-bottom: 4px;\n",
              "    }\n",
              "\n",
              "    [theme=dark] .colab-df-convert {\n",
              "      background-color: #3B4455;\n",
              "      fill: #D2E3FC;\n",
              "    }\n",
              "\n",
              "    [theme=dark] .colab-df-convert:hover {\n",
              "      background-color: #434B5C;\n",
              "      box-shadow: 0px 1px 3px 1px rgba(0, 0, 0, 0.15);\n",
              "      filter: drop-shadow(0px 1px 2px rgba(0, 0, 0, 0.3));\n",
              "      fill: #FFFFFF;\n",
              "    }\n",
              "  </style>\n",
              "\n",
              "    <script>\n",
              "      const buttonEl =\n",
              "        document.querySelector('#df-5bd59ae9-67ca-473b-b29d-32b38ab47e02 button.colab-df-convert');\n",
              "      buttonEl.style.display =\n",
              "        google.colab.kernel.accessAllowed ? 'block' : 'none';\n",
              "\n",
              "      async function convertToInteractive(key) {\n",
              "        const element = document.querySelector('#df-5bd59ae9-67ca-473b-b29d-32b38ab47e02');\n",
              "        const dataTable =\n",
              "          await google.colab.kernel.invokeFunction('convertToInteractive',\n",
              "                                                    [key], {});\n",
              "        if (!dataTable) return;\n",
              "\n",
              "        const docLinkHtml = 'Like what you see? Visit the ' +\n",
              "          '<a target=\"_blank\" href=https://colab.research.google.com/notebooks/data_table.ipynb>data table notebook</a>'\n",
              "          + ' to learn more about interactive tables.';\n",
              "        element.innerHTML = '';\n",
              "        dataTable['output_type'] = 'display_data';\n",
              "        await google.colab.output.renderOutput(dataTable, element);\n",
              "        const docLink = document.createElement('div');\n",
              "        docLink.innerHTML = docLinkHtml;\n",
              "        element.appendChild(docLink);\n",
              "      }\n",
              "    </script>\n",
              "  </div>\n",
              "\n",
              "\n",
              "<div id=\"df-79b1cc84-c365-4378-b117-f0ea2b138416\">\n",
              "  <button class=\"colab-df-quickchart\" onclick=\"quickchart('df-79b1cc84-c365-4378-b117-f0ea2b138416')\"\n",
              "            title=\"Suggest charts\"\n",
              "            style=\"display:none;\">\n",
              "\n",
              "<svg xmlns=\"http://www.w3.org/2000/svg\" height=\"24px\"viewBox=\"0 0 24 24\"\n",
              "     width=\"24px\">\n",
              "    <g>\n",
              "        <path d=\"M19 3H5c-1.1 0-2 .9-2 2v14c0 1.1.9 2 2 2h14c1.1 0 2-.9 2-2V5c0-1.1-.9-2-2-2zM9 17H7v-7h2v7zm4 0h-2V7h2v10zm4 0h-2v-4h2v4z\"/>\n",
              "    </g>\n",
              "</svg>\n",
              "  </button>\n",
              "\n",
              "<style>\n",
              "  .colab-df-quickchart {\n",
              "      --bg-color: #E8F0FE;\n",
              "      --fill-color: #1967D2;\n",
              "      --hover-bg-color: #E2EBFA;\n",
              "      --hover-fill-color: #174EA6;\n",
              "      --disabled-fill-color: #AAA;\n",
              "      --disabled-bg-color: #DDD;\n",
              "  }\n",
              "\n",
              "  [theme=dark] .colab-df-quickchart {\n",
              "      --bg-color: #3B4455;\n",
              "      --fill-color: #D2E3FC;\n",
              "      --hover-bg-color: #434B5C;\n",
              "      --hover-fill-color: #FFFFFF;\n",
              "      --disabled-bg-color: #3B4455;\n",
              "      --disabled-fill-color: #666;\n",
              "  }\n",
              "\n",
              "  .colab-df-quickchart {\n",
              "    background-color: var(--bg-color);\n",
              "    border: none;\n",
              "    border-radius: 50%;\n",
              "    cursor: pointer;\n",
              "    display: none;\n",
              "    fill: var(--fill-color);\n",
              "    height: 32px;\n",
              "    padding: 0;\n",
              "    width: 32px;\n",
              "  }\n",
              "\n",
              "  .colab-df-quickchart:hover {\n",
              "    background-color: var(--hover-bg-color);\n",
              "    box-shadow: 0 1px 2px rgba(60, 64, 67, 0.3), 0 1px 3px 1px rgba(60, 64, 67, 0.15);\n",
              "    fill: var(--button-hover-fill-color);\n",
              "  }\n",
              "\n",
              "  .colab-df-quickchart-complete:disabled,\n",
              "  .colab-df-quickchart-complete:disabled:hover {\n",
              "    background-color: var(--disabled-bg-color);\n",
              "    fill: var(--disabled-fill-color);\n",
              "    box-shadow: none;\n",
              "  }\n",
              "\n",
              "  .colab-df-spinner {\n",
              "    border: 2px solid var(--fill-color);\n",
              "    border-color: transparent;\n",
              "    border-bottom-color: var(--fill-color);\n",
              "    animation:\n",
              "      spin 1s steps(1) infinite;\n",
              "  }\n",
              "\n",
              "  @keyframes spin {\n",
              "    0% {\n",
              "      border-color: transparent;\n",
              "      border-bottom-color: var(--fill-color);\n",
              "      border-left-color: var(--fill-color);\n",
              "    }\n",
              "    20% {\n",
              "      border-color: transparent;\n",
              "      border-left-color: var(--fill-color);\n",
              "      border-top-color: var(--fill-color);\n",
              "    }\n",
              "    30% {\n",
              "      border-color: transparent;\n",
              "      border-left-color: var(--fill-color);\n",
              "      border-top-color: var(--fill-color);\n",
              "      border-right-color: var(--fill-color);\n",
              "    }\n",
              "    40% {\n",
              "      border-color: transparent;\n",
              "      border-right-color: var(--fill-color);\n",
              "      border-top-color: var(--fill-color);\n",
              "    }\n",
              "    60% {\n",
              "      border-color: transparent;\n",
              "      border-right-color: var(--fill-color);\n",
              "    }\n",
              "    80% {\n",
              "      border-color: transparent;\n",
              "      border-right-color: var(--fill-color);\n",
              "      border-bottom-color: var(--fill-color);\n",
              "    }\n",
              "    90% {\n",
              "      border-color: transparent;\n",
              "      border-bottom-color: var(--fill-color);\n",
              "    }\n",
              "  }\n",
              "</style>\n",
              "\n",
              "  <script>\n",
              "    async function quickchart(key) {\n",
              "      const quickchartButtonEl =\n",
              "        document.querySelector('#' + key + ' button');\n",
              "      quickchartButtonEl.disabled = true;  // To prevent multiple clicks.\n",
              "      quickchartButtonEl.classList.add('colab-df-spinner');\n",
              "      try {\n",
              "        const charts = await google.colab.kernel.invokeFunction(\n",
              "            'suggestCharts', [key], {});\n",
              "      } catch (error) {\n",
              "        console.error('Error during call to suggestCharts:', error);\n",
              "      }\n",
              "      quickchartButtonEl.classList.remove('colab-df-spinner');\n",
              "      quickchartButtonEl.classList.add('colab-df-quickchart-complete');\n",
              "    }\n",
              "    (() => {\n",
              "      let quickchartButtonEl =\n",
              "        document.querySelector('#df-79b1cc84-c365-4378-b117-f0ea2b138416 button');\n",
              "      quickchartButtonEl.style.display =\n",
              "        google.colab.kernel.accessAllowed ? 'block' : 'none';\n",
              "    })();\n",
              "  </script>\n",
              "</div>\n",
              "\n",
              "    </div>\n",
              "  </div>\n"
            ],
            "application/vnd.google.colaboratory.intrinsic+json": {
              "type": "dataframe",
              "variable_name": "df"
            }
          },
          "metadata": {},
          "execution_count": 411
        }
      ]
    },
    {
      "cell_type": "code",
      "source": [
        "#Ver resumo das colunas e tipos de dados\n",
        "df.info()"
      ],
      "metadata": {
        "colab": {
          "base_uri": "https://localhost:8080/"
        },
        "id": "mP0Qk8Xk5fu-",
        "outputId": "475daffc-8406-4c6c-ddc8-71fa4c840786"
      },
      "execution_count": null,
      "outputs": [
        {
          "output_type": "stream",
          "name": "stdout",
          "text": [
            "<class 'pandas.core.frame.DataFrame'>\n",
            "RangeIndex: 541909 entries, 0 to 541908\n",
            "Data columns (total 8 columns):\n",
            " #   Column       Non-Null Count   Dtype  \n",
            "---  ------       --------------   -----  \n",
            " 0   InvoiceNo    541909 non-null  object \n",
            " 1   StockCode    541909 non-null  object \n",
            " 2   Description  540455 non-null  object \n",
            " 3   Quantity     541909 non-null  int64  \n",
            " 4   InvoiceDate  541909 non-null  object \n",
            " 5   UnitPrice    541909 non-null  float64\n",
            " 6   CustomerID   406829 non-null  float64\n",
            " 7   Country      541909 non-null  object \n",
            "dtypes: float64(2), int64(1), object(5)\n",
            "memory usage: 33.1+ MB\n"
          ]
        }
      ]
    },
    {
      "cell_type": "code",
      "source": [
        "#Ver estatísticas das colunas numéricas\n",
        "df.describe()"
      ],
      "metadata": {
        "colab": {
          "base_uri": "https://localhost:8080/",
          "height": 300
        },
        "id": "I4Lr-S8f5rQj",
        "outputId": "fcead195-0a67-4c33-ae2c-a1433b8a97cf"
      },
      "execution_count": null,
      "outputs": [
        {
          "output_type": "execute_result",
          "data": {
            "text/plain": [
              "            Quantity      UnitPrice     CustomerID\n",
              "count  541909.000000  541909.000000  406829.000000\n",
              "mean        9.552250       4.611114   15287.690570\n",
              "std       218.081158      96.759853    1713.600303\n",
              "min    -80995.000000  -11062.060000   12346.000000\n",
              "25%         1.000000       1.250000   13953.000000\n",
              "50%         3.000000       2.080000   15152.000000\n",
              "75%        10.000000       4.130000   16791.000000\n",
              "max     80995.000000   38970.000000   18287.000000"
            ],
            "text/html": [
              "\n",
              "  <div id=\"df-34d674fd-4994-4c43-baf5-ab0f52a7561d\" class=\"colab-df-container\">\n",
              "    <div>\n",
              "<style scoped>\n",
              "    .dataframe tbody tr th:only-of-type {\n",
              "        vertical-align: middle;\n",
              "    }\n",
              "\n",
              "    .dataframe tbody tr th {\n",
              "        vertical-align: top;\n",
              "    }\n",
              "\n",
              "    .dataframe thead th {\n",
              "        text-align: right;\n",
              "    }\n",
              "</style>\n",
              "<table border=\"1\" class=\"dataframe\">\n",
              "  <thead>\n",
              "    <tr style=\"text-align: right;\">\n",
              "      <th></th>\n",
              "      <th>Quantity</th>\n",
              "      <th>UnitPrice</th>\n",
              "      <th>CustomerID</th>\n",
              "    </tr>\n",
              "  </thead>\n",
              "  <tbody>\n",
              "    <tr>\n",
              "      <th>count</th>\n",
              "      <td>541909.000000</td>\n",
              "      <td>541909.000000</td>\n",
              "      <td>406829.000000</td>\n",
              "    </tr>\n",
              "    <tr>\n",
              "      <th>mean</th>\n",
              "      <td>9.552250</td>\n",
              "      <td>4.611114</td>\n",
              "      <td>15287.690570</td>\n",
              "    </tr>\n",
              "    <tr>\n",
              "      <th>std</th>\n",
              "      <td>218.081158</td>\n",
              "      <td>96.759853</td>\n",
              "      <td>1713.600303</td>\n",
              "    </tr>\n",
              "    <tr>\n",
              "      <th>min</th>\n",
              "      <td>-80995.000000</td>\n",
              "      <td>-11062.060000</td>\n",
              "      <td>12346.000000</td>\n",
              "    </tr>\n",
              "    <tr>\n",
              "      <th>25%</th>\n",
              "      <td>1.000000</td>\n",
              "      <td>1.250000</td>\n",
              "      <td>13953.000000</td>\n",
              "    </tr>\n",
              "    <tr>\n",
              "      <th>50%</th>\n",
              "      <td>3.000000</td>\n",
              "      <td>2.080000</td>\n",
              "      <td>15152.000000</td>\n",
              "    </tr>\n",
              "    <tr>\n",
              "      <th>75%</th>\n",
              "      <td>10.000000</td>\n",
              "      <td>4.130000</td>\n",
              "      <td>16791.000000</td>\n",
              "    </tr>\n",
              "    <tr>\n",
              "      <th>max</th>\n",
              "      <td>80995.000000</td>\n",
              "      <td>38970.000000</td>\n",
              "      <td>18287.000000</td>\n",
              "    </tr>\n",
              "  </tbody>\n",
              "</table>\n",
              "</div>\n",
              "    <div class=\"colab-df-buttons\">\n",
              "\n",
              "  <div class=\"colab-df-container\">\n",
              "    <button class=\"colab-df-convert\" onclick=\"convertToInteractive('df-34d674fd-4994-4c43-baf5-ab0f52a7561d')\"\n",
              "            title=\"Convert this dataframe to an interactive table.\"\n",
              "            style=\"display:none;\">\n",
              "\n",
              "  <svg xmlns=\"http://www.w3.org/2000/svg\" height=\"24px\" viewBox=\"0 -960 960 960\">\n",
              "    <path d=\"M120-120v-720h720v720H120Zm60-500h600v-160H180v160Zm220 220h160v-160H400v160Zm0 220h160v-160H400v160ZM180-400h160v-160H180v160Zm440 0h160v-160H620v160ZM180-180h160v-160H180v160Zm440 0h160v-160H620v160Z\"/>\n",
              "  </svg>\n",
              "    </button>\n",
              "\n",
              "  <style>\n",
              "    .colab-df-container {\n",
              "      display:flex;\n",
              "      gap: 12px;\n",
              "    }\n",
              "\n",
              "    .colab-df-convert {\n",
              "      background-color: #E8F0FE;\n",
              "      border: none;\n",
              "      border-radius: 50%;\n",
              "      cursor: pointer;\n",
              "      display: none;\n",
              "      fill: #1967D2;\n",
              "      height: 32px;\n",
              "      padding: 0 0 0 0;\n",
              "      width: 32px;\n",
              "    }\n",
              "\n",
              "    .colab-df-convert:hover {\n",
              "      background-color: #E2EBFA;\n",
              "      box-shadow: 0px 1px 2px rgba(60, 64, 67, 0.3), 0px 1px 3px 1px rgba(60, 64, 67, 0.15);\n",
              "      fill: #174EA6;\n",
              "    }\n",
              "\n",
              "    .colab-df-buttons div {\n",
              "      margin-bottom: 4px;\n",
              "    }\n",
              "\n",
              "    [theme=dark] .colab-df-convert {\n",
              "      background-color: #3B4455;\n",
              "      fill: #D2E3FC;\n",
              "    }\n",
              "\n",
              "    [theme=dark] .colab-df-convert:hover {\n",
              "      background-color: #434B5C;\n",
              "      box-shadow: 0px 1px 3px 1px rgba(0, 0, 0, 0.15);\n",
              "      filter: drop-shadow(0px 1px 2px rgba(0, 0, 0, 0.3));\n",
              "      fill: #FFFFFF;\n",
              "    }\n",
              "  </style>\n",
              "\n",
              "    <script>\n",
              "      const buttonEl =\n",
              "        document.querySelector('#df-34d674fd-4994-4c43-baf5-ab0f52a7561d button.colab-df-convert');\n",
              "      buttonEl.style.display =\n",
              "        google.colab.kernel.accessAllowed ? 'block' : 'none';\n",
              "\n",
              "      async function convertToInteractive(key) {\n",
              "        const element = document.querySelector('#df-34d674fd-4994-4c43-baf5-ab0f52a7561d');\n",
              "        const dataTable =\n",
              "          await google.colab.kernel.invokeFunction('convertToInteractive',\n",
              "                                                    [key], {});\n",
              "        if (!dataTable) return;\n",
              "\n",
              "        const docLinkHtml = 'Like what you see? Visit the ' +\n",
              "          '<a target=\"_blank\" href=https://colab.research.google.com/notebooks/data_table.ipynb>data table notebook</a>'\n",
              "          + ' to learn more about interactive tables.';\n",
              "        element.innerHTML = '';\n",
              "        dataTable['output_type'] = 'display_data';\n",
              "        await google.colab.output.renderOutput(dataTable, element);\n",
              "        const docLink = document.createElement('div');\n",
              "        docLink.innerHTML = docLinkHtml;\n",
              "        element.appendChild(docLink);\n",
              "      }\n",
              "    </script>\n",
              "  </div>\n",
              "\n",
              "\n",
              "<div id=\"df-bea3b768-0b57-46f2-96f2-629b8350bfbd\">\n",
              "  <button class=\"colab-df-quickchart\" onclick=\"quickchart('df-bea3b768-0b57-46f2-96f2-629b8350bfbd')\"\n",
              "            title=\"Suggest charts\"\n",
              "            style=\"display:none;\">\n",
              "\n",
              "<svg xmlns=\"http://www.w3.org/2000/svg\" height=\"24px\"viewBox=\"0 0 24 24\"\n",
              "     width=\"24px\">\n",
              "    <g>\n",
              "        <path d=\"M19 3H5c-1.1 0-2 .9-2 2v14c0 1.1.9 2 2 2h14c1.1 0 2-.9 2-2V5c0-1.1-.9-2-2-2zM9 17H7v-7h2v7zm4 0h-2V7h2v10zm4 0h-2v-4h2v4z\"/>\n",
              "    </g>\n",
              "</svg>\n",
              "  </button>\n",
              "\n",
              "<style>\n",
              "  .colab-df-quickchart {\n",
              "      --bg-color: #E8F0FE;\n",
              "      --fill-color: #1967D2;\n",
              "      --hover-bg-color: #E2EBFA;\n",
              "      --hover-fill-color: #174EA6;\n",
              "      --disabled-fill-color: #AAA;\n",
              "      --disabled-bg-color: #DDD;\n",
              "  }\n",
              "\n",
              "  [theme=dark] .colab-df-quickchart {\n",
              "      --bg-color: #3B4455;\n",
              "      --fill-color: #D2E3FC;\n",
              "      --hover-bg-color: #434B5C;\n",
              "      --hover-fill-color: #FFFFFF;\n",
              "      --disabled-bg-color: #3B4455;\n",
              "      --disabled-fill-color: #666;\n",
              "  }\n",
              "\n",
              "  .colab-df-quickchart {\n",
              "    background-color: var(--bg-color);\n",
              "    border: none;\n",
              "    border-radius: 50%;\n",
              "    cursor: pointer;\n",
              "    display: none;\n",
              "    fill: var(--fill-color);\n",
              "    height: 32px;\n",
              "    padding: 0;\n",
              "    width: 32px;\n",
              "  }\n",
              "\n",
              "  .colab-df-quickchart:hover {\n",
              "    background-color: var(--hover-bg-color);\n",
              "    box-shadow: 0 1px 2px rgba(60, 64, 67, 0.3), 0 1px 3px 1px rgba(60, 64, 67, 0.15);\n",
              "    fill: var(--button-hover-fill-color);\n",
              "  }\n",
              "\n",
              "  .colab-df-quickchart-complete:disabled,\n",
              "  .colab-df-quickchart-complete:disabled:hover {\n",
              "    background-color: var(--disabled-bg-color);\n",
              "    fill: var(--disabled-fill-color);\n",
              "    box-shadow: none;\n",
              "  }\n",
              "\n",
              "  .colab-df-spinner {\n",
              "    border: 2px solid var(--fill-color);\n",
              "    border-color: transparent;\n",
              "    border-bottom-color: var(--fill-color);\n",
              "    animation:\n",
              "      spin 1s steps(1) infinite;\n",
              "  }\n",
              "\n",
              "  @keyframes spin {\n",
              "    0% {\n",
              "      border-color: transparent;\n",
              "      border-bottom-color: var(--fill-color);\n",
              "      border-left-color: var(--fill-color);\n",
              "    }\n",
              "    20% {\n",
              "      border-color: transparent;\n",
              "      border-left-color: var(--fill-color);\n",
              "      border-top-color: var(--fill-color);\n",
              "    }\n",
              "    30% {\n",
              "      border-color: transparent;\n",
              "      border-left-color: var(--fill-color);\n",
              "      border-top-color: var(--fill-color);\n",
              "      border-right-color: var(--fill-color);\n",
              "    }\n",
              "    40% {\n",
              "      border-color: transparent;\n",
              "      border-right-color: var(--fill-color);\n",
              "      border-top-color: var(--fill-color);\n",
              "    }\n",
              "    60% {\n",
              "      border-color: transparent;\n",
              "      border-right-color: var(--fill-color);\n",
              "    }\n",
              "    80% {\n",
              "      border-color: transparent;\n",
              "      border-right-color: var(--fill-color);\n",
              "      border-bottom-color: var(--fill-color);\n",
              "    }\n",
              "    90% {\n",
              "      border-color: transparent;\n",
              "      border-bottom-color: var(--fill-color);\n",
              "    }\n",
              "  }\n",
              "</style>\n",
              "\n",
              "  <script>\n",
              "    async function quickchart(key) {\n",
              "      const quickchartButtonEl =\n",
              "        document.querySelector('#' + key + ' button');\n",
              "      quickchartButtonEl.disabled = true;  // To prevent multiple clicks.\n",
              "      quickchartButtonEl.classList.add('colab-df-spinner');\n",
              "      try {\n",
              "        const charts = await google.colab.kernel.invokeFunction(\n",
              "            'suggestCharts', [key], {});\n",
              "      } catch (error) {\n",
              "        console.error('Error during call to suggestCharts:', error);\n",
              "      }\n",
              "      quickchartButtonEl.classList.remove('colab-df-spinner');\n",
              "      quickchartButtonEl.classList.add('colab-df-quickchart-complete');\n",
              "    }\n",
              "    (() => {\n",
              "      let quickchartButtonEl =\n",
              "        document.querySelector('#df-bea3b768-0b57-46f2-96f2-629b8350bfbd button');\n",
              "      quickchartButtonEl.style.display =\n",
              "        google.colab.kernel.accessAllowed ? 'block' : 'none';\n",
              "    })();\n",
              "  </script>\n",
              "</div>\n",
              "\n",
              "    </div>\n",
              "  </div>\n"
            ],
            "application/vnd.google.colaboratory.intrinsic+json": {
              "type": "dataframe",
              "summary": "{\n  \"name\": \"df\",\n  \"rows\": 8,\n  \"fields\": [\n    {\n      \"column\": \"Quantity\",\n      \"properties\": {\n        \"dtype\": \"number\",\n        \"std\": 196412.42266088672,\n        \"min\": -80995.0,\n        \"max\": 541909.0,\n        \"num_unique_values\": 8,\n        \"samples\": [\n          9.55224954743324,\n          3.0,\n          541909.0\n        ],\n        \"semantic_type\": \"\",\n        \"description\": \"\"\n      }\n    },\n    {\n      \"column\": \"UnitPrice\",\n      \"properties\": {\n        \"dtype\": \"number\",\n        \"std\": 190752.07570771928,\n        \"min\": -11062.06,\n        \"max\": 541909.0,\n        \"num_unique_values\": 8,\n        \"samples\": [\n          4.611113626088513,\n          2.08,\n          541909.0\n        ],\n        \"semantic_type\": \"\",\n        \"description\": \"\"\n      }\n    },\n    {\n      \"column\": \"CustomerID\",\n      \"properties\": {\n        \"dtype\": \"number\",\n        \"std\": 139204.16800694188,\n        \"min\": 1713.6003033216632,\n        \"max\": 406829.0,\n        \"num_unique_values\": 8,\n        \"samples\": [\n          15287.690570239585,\n          15152.0,\n          406829.0\n        ],\n        \"semantic_type\": \"\",\n        \"description\": \"\"\n      }\n    }\n  ]\n}"
            }
          },
          "metadata": {},
          "execution_count": 413
        }
      ]
    },
    {
      "cell_type": "markdown",
      "source": [
        "# Etapa 02. Valores faltantes na identificação do cliente"
      ],
      "metadata": {
        "id": "QuqpxsyY6EVE"
      }
    },
    {
      "cell_type": "code",
      "source": [
        "#Encontrar valores nulos nas colunas\n",
        "df.isnull().sum()"
      ],
      "metadata": {
        "colab": {
          "base_uri": "https://localhost:8080/",
          "height": 335
        },
        "id": "5GGQ4uT850gR",
        "outputId": "bfedbbdf-1df8-4f60-bc4c-02f162bba40a"
      },
      "execution_count": null,
      "outputs": [
        {
          "output_type": "execute_result",
          "data": {
            "text/plain": [
              "InvoiceNo           0\n",
              "StockCode           0\n",
              "Description      1454\n",
              "Quantity            0\n",
              "InvoiceDate         0\n",
              "UnitPrice           0\n",
              "CustomerID     135080\n",
              "Country             0\n",
              "dtype: int64"
            ],
            "text/html": [
              "<div>\n",
              "<style scoped>\n",
              "    .dataframe tbody tr th:only-of-type {\n",
              "        vertical-align: middle;\n",
              "    }\n",
              "\n",
              "    .dataframe tbody tr th {\n",
              "        vertical-align: top;\n",
              "    }\n",
              "\n",
              "    .dataframe thead th {\n",
              "        text-align: right;\n",
              "    }\n",
              "</style>\n",
              "<table border=\"1\" class=\"dataframe\">\n",
              "  <thead>\n",
              "    <tr style=\"text-align: right;\">\n",
              "      <th></th>\n",
              "      <th>0</th>\n",
              "    </tr>\n",
              "  </thead>\n",
              "  <tbody>\n",
              "    <tr>\n",
              "      <th>InvoiceNo</th>\n",
              "      <td>0</td>\n",
              "    </tr>\n",
              "    <tr>\n",
              "      <th>StockCode</th>\n",
              "      <td>0</td>\n",
              "    </tr>\n",
              "    <tr>\n",
              "      <th>Description</th>\n",
              "      <td>1454</td>\n",
              "    </tr>\n",
              "    <tr>\n",
              "      <th>Quantity</th>\n",
              "      <td>0</td>\n",
              "    </tr>\n",
              "    <tr>\n",
              "      <th>InvoiceDate</th>\n",
              "      <td>0</td>\n",
              "    </tr>\n",
              "    <tr>\n",
              "      <th>UnitPrice</th>\n",
              "      <td>0</td>\n",
              "    </tr>\n",
              "    <tr>\n",
              "      <th>CustomerID</th>\n",
              "      <td>135080</td>\n",
              "    </tr>\n",
              "    <tr>\n",
              "      <th>Country</th>\n",
              "      <td>0</td>\n",
              "    </tr>\n",
              "  </tbody>\n",
              "</table>\n",
              "</div><br><label><b>dtype:</b> int64</label>"
            ]
          },
          "metadata": {},
          "execution_count": 414
        }
      ]
    },
    {
      "cell_type": "code",
      "source": [
        "# Remover registros onde 'CustomerID' é nulo (NaN)\n",
        "df = df.dropna(subset=['CustomerID'])\n",
        "\n",
        "# Verificar se as remoções foram feitas corretamente\n",
        "print(df.isnull().sum())"
      ],
      "metadata": {
        "colab": {
          "base_uri": "https://localhost:8080/"
        },
        "id": "R3qVWXrP_ygi",
        "outputId": "9d899aee-9d26-4be0-94d4-df7ad4e4310a"
      },
      "execution_count": null,
      "outputs": [
        {
          "output_type": "stream",
          "name": "stdout",
          "text": [
            "InvoiceNo      0\n",
            "StockCode      0\n",
            "Description    0\n",
            "Quantity       0\n",
            "InvoiceDate    0\n",
            "UnitPrice      0\n",
            "CustomerID     0\n",
            "Country        0\n",
            "dtype: int64\n"
          ]
        }
      ]
    },
    {
      "cell_type": "markdown",
      "source": [
        "# Etapa 03. Preços unitários e quantidade de produtos iguais ou inferior a 0"
      ],
      "metadata": {
        "id": "EOjZTIn6B7bO"
      }
    },
    {
      "cell_type": "code",
      "source": [
        "'''Primeiro, precisamos verificar se existem valores nulos ou menores ou iguais a zero na coluna UnitPrice.'''\n",
        "precos_negativos_ou_nulos = df[df['UnitPrice'] <= 0]"
      ],
      "metadata": {
        "collapsed": true,
        "id": "mbNjF56NA5nu"
      },
      "execution_count": null,
      "outputs": []
    },
    {
      "cell_type": "code",
      "source": [
        "# Exibir as linhas com valores inválidos de preço\n",
        "print(precos_negativos_ou_nulos)"
      ],
      "metadata": {
        "colab": {
          "base_uri": "https://localhost:8080/"
        },
        "collapsed": true,
        "id": "ProR-pA3C2Qx",
        "outputId": "de930a9e-9d76-4d90-ace8-5f05059c5121"
      },
      "execution_count": null,
      "outputs": [
        {
          "output_type": "stream",
          "name": "stdout",
          "text": [
            "       InvoiceNo StockCode                          Description  Quantity  \\\n",
            "9302      537197     22841         ROUND CAKE TIN VINTAGE GREEN         1   \n",
            "33576     539263     22580         ADVENT CALENDAR GINGHAM SACK         4   \n",
            "40089     539722     22423             REGENCY CAKESTAND 3 TIER        10   \n",
            "47068     540372     22090              PAPER BUNTING RETROSPOT        24   \n",
            "47070     540372     22553               PLASTERS IN TIN SKULLS        24   \n",
            "56674     541109     22168        ORGANISER WOOD ANTIQUE WHITE          1   \n",
            "86789     543599    84535B         FAIRY CAKES NOTEBOOK A6 SIZE        16   \n",
            "130188    547417     22062  CERAMIC BOWL WITH LOVE HEART DESIGN        36   \n",
            "139453    548318     22055   MINI CAKE STAND  HANGING STRAWBERY         5   \n",
            "145208    548871     22162          HEART GARLAND RUSTIC PADDED         2   \n",
            "157042    550188     22636   CHILDS BREAKFAST SET CIRCUS PARADE         1   \n",
            "187613    553000     47566                        PARTY BUNTING         4   \n",
            "198383    554037     22619            SET OF 6 SOLDIER SKITTLES        80   \n",
            "279324    561284     22167           OVAL WALL MIRROR DIAMANTE          1   \n",
            "282912    561669     22960             JAM MAKING SET WITH JARS        11   \n",
            "285657    561916         M                               Manual         1   \n",
            "298054    562973     23157           SET OF 6 NATIVITY MAGNETS        240   \n",
            "314745    564651     23270     SET OF 2 CERAMIC PAINTED HEARTS         96   \n",
            "314746    564651     23268  SET OF 2 CERAMIC CHRISTMAS REINDEER       192   \n",
            "314747    564651     22955             36 FOIL STAR CAKE CASES        144   \n",
            "314748    564651     21786                   POLKADOT RAIN HAT        144   \n",
            "358655    568158      PADS           PADS TO MATCH ALL CUSHIONS         1   \n",
            "361825    568384         M                               Manual         1   \n",
            "379913    569716     22778                   GLASS CLOCHE SMALL         2   \n",
            "395529    571035         M                               Manual         1   \n",
            "420404    572893     21208          PASTEL COLOUR HONEYCOMB FAN         5   \n",
            "436428    574138     23234        BISCUIT TIN VINTAGE CHRISTMAS       216   \n",
            "436597    574175     22065       CHRISTMAS PUDDING TRINKET POT         12   \n",
            "436961    574252         M                               Manual         1   \n",
            "439361    574469     22385            JUMBO BAG SPACEBOY DESIGN        12   \n",
            "446125    574879     22625                   RED KITCHEN SCALES         2   \n",
            "446793    574920     22899         CHILDREN'S APRON DOLLY GIRL          1   \n",
            "446794    574920     23480       MINI LIGHTS WOODLAND MUSHROOMS         1   \n",
            "454463    575579     22437        SET OF 9 BLACK SKULL BALLOONS        20   \n",
            "454464    575579     22089        PAPER BUNTING VINTAGE PAISLEY        24   \n",
            "479079    577129     22464          HANGING METAL HEART LANTERN         4   \n",
            "479546    577168         M                               Manual         1   \n",
            "480649    577314     23407       SET OF 2 TRAYS HOME SWEET HOME         2   \n",
            "485985    577696         M                               Manual         1   \n",
            "502122    578841     84826       ASSTD DESIGN 3D PAPER STICKERS     12540   \n",
            "\n",
            "             InvoiceDate  UnitPrice  CustomerID         Country  \n",
            "9302     12/5/2010 14:02        0.0     12647.0         Germany  \n",
            "33576   12/16/2010 14:36        0.0     16560.0  United Kingdom  \n",
            "40089   12/21/2010 13:45        0.0     14911.0            EIRE  \n",
            "47068     1/6/2011 16:41        0.0     13081.0  United Kingdom  \n",
            "47070     1/6/2011 16:41        0.0     13081.0  United Kingdom  \n",
            "56674    1/13/2011 15:10        0.0     15107.0  United Kingdom  \n",
            "86789    2/10/2011 13:08        0.0     17560.0  United Kingdom  \n",
            "130188   3/23/2011 10:25        0.0     13239.0  United Kingdom  \n",
            "139453   3/30/2011 12:45        0.0     13113.0  United Kingdom  \n",
            "145208    4/4/2011 14:42        0.0     14410.0  United Kingdom  \n",
            "157042   4/14/2011 18:57        0.0     12457.0     Switzerland  \n",
            "187613   5/12/2011 15:21        0.0     17667.0  United Kingdom  \n",
            "198383   5/20/2011 14:13        0.0     12415.0       Australia  \n",
            "279324   7/26/2011 12:24        0.0     16818.0  United Kingdom  \n",
            "282912   7/28/2011 17:09        0.0     12507.0           Spain  \n",
            "285657    8/1/2011 11:44        0.0     15581.0  United Kingdom  \n",
            "298054   8/11/2011 11:42        0.0     14911.0            EIRE  \n",
            "314745   8/26/2011 14:19        0.0     14646.0     Netherlands  \n",
            "314746   8/26/2011 14:19        0.0     14646.0     Netherlands  \n",
            "314747   8/26/2011 14:19        0.0     14646.0     Netherlands  \n",
            "314748   8/26/2011 14:19        0.0     14646.0     Netherlands  \n",
            "358655   9/25/2011 12:22        0.0     16133.0  United Kingdom  \n",
            "361825    9/27/2011 9:46        0.0     12748.0  United Kingdom  \n",
            "379913    10/6/2011 8:17        0.0     15804.0  United Kingdom  \n",
            "395529  10/13/2011 12:50        0.0     12446.0             RSA  \n",
            "420404  10/26/2011 14:36        0.0     18059.0  United Kingdom  \n",
            "436428   11/3/2011 11:26        0.0     12415.0       Australia  \n",
            "436597   11/3/2011 11:47        0.0     14110.0  United Kingdom  \n",
            "436961   11/3/2011 13:24        0.0     12437.0          France  \n",
            "439361   11/4/2011 11:55        0.0     12431.0       Australia  \n",
            "446125   11/7/2011 13:22        0.0     13014.0  United Kingdom  \n",
            "446793   11/7/2011 16:34        0.0     13985.0  United Kingdom  \n",
            "446794   11/7/2011 16:34        0.0     13985.0  United Kingdom  \n",
            "454463  11/10/2011 11:49        0.0     13081.0  United Kingdom  \n",
            "454464  11/10/2011 11:49        0.0     13081.0  United Kingdom  \n",
            "479079  11/17/2011 19:52        0.0     15602.0  United Kingdom  \n",
            "479546  11/18/2011 10:42        0.0     12603.0         Germany  \n",
            "480649  11/18/2011 13:23        0.0     12444.0          Norway  \n",
            "485985  11/21/2011 11:57        0.0     16406.0  United Kingdom  \n",
            "502122  11/25/2011 15:57        0.0     13256.0  United Kingdom  \n"
          ]
        }
      ]
    },
    {
      "cell_type": "code",
      "source": [
        "# Filtrar para manter apenas preços maiores que zero\n",
        "df = df[df['UnitPrice'] > 0]"
      ],
      "metadata": {
        "id": "mmbawvsEC4cD"
      },
      "execution_count": null,
      "outputs": []
    },
    {
      "cell_type": "code",
      "source": [
        "'''Agora, precisamos verificar se existem valores nulos ou menores ou iguais a zero na coluna Quantity.'''\n",
        "quantidades_negativas_ou_nulas = df[df['Quantity'] <= 0]"
      ],
      "metadata": {
        "id": "8c2s17qNDYUw"
      },
      "execution_count": null,
      "outputs": []
    },
    {
      "cell_type": "code",
      "source": [
        "# Exibir as linhas com valores inválidos de quantidade\n",
        "print(quantidades_negativas_ou_nulas)"
      ],
      "metadata": {
        "colab": {
          "base_uri": "https://localhost:8080/"
        },
        "id": "fB_JjL6HD9gI",
        "outputId": "14bb99d8-d81b-4746-9c7f-3dfb8da8daac"
      },
      "execution_count": null,
      "outputs": [
        {
          "output_type": "stream",
          "name": "stdout",
          "text": [
            "       InvoiceNo StockCode                       Description  Quantity  \\\n",
            "141      C536379         D                          Discount        -1   \n",
            "154      C536383    35004C   SET OF 3 COLOURED  FLYING DUCKS        -1   \n",
            "235      C536391     22556    PLASTERS IN TIN CIRCUS PARADE        -12   \n",
            "236      C536391     21984  PACK OF 12 PINK PAISLEY TISSUES        -24   \n",
            "237      C536391     21983  PACK OF 12 BLUE PAISLEY TISSUES        -24   \n",
            "...          ...       ...                               ...       ...   \n",
            "540449   C581490     23144   ZINC T-LIGHT HOLDER STARS SMALL       -11   \n",
            "541541   C581499         M                            Manual        -1   \n",
            "541715   C581568     21258        VICTORIAN SEWING BOX LARGE        -5   \n",
            "541716   C581569     84978  HANGING HEART JAR T-LIGHT HOLDER        -1   \n",
            "541717   C581569     20979     36 PENCILS TUBE RED RETROSPOT        -5   \n",
            "\n",
            "            InvoiceDate  UnitPrice  CustomerID         Country  \n",
            "141      12/1/2010 9:41      27.50     14527.0  United Kingdom  \n",
            "154      12/1/2010 9:49       4.65     15311.0  United Kingdom  \n",
            "235     12/1/2010 10:24       1.65     17548.0  United Kingdom  \n",
            "236     12/1/2010 10:24       0.29     17548.0  United Kingdom  \n",
            "237     12/1/2010 10:24       0.29     17548.0  United Kingdom  \n",
            "...                 ...        ...         ...             ...  \n",
            "540449   12/9/2011 9:57       0.83     14397.0  United Kingdom  \n",
            "541541  12/9/2011 10:28     224.69     15498.0  United Kingdom  \n",
            "541715  12/9/2011 11:57      10.95     15311.0  United Kingdom  \n",
            "541716  12/9/2011 11:58       1.25     17315.0  United Kingdom  \n",
            "541717  12/9/2011 11:58       1.25     17315.0  United Kingdom  \n",
            "\n",
            "[8905 rows x 8 columns]\n"
          ]
        }
      ]
    },
    {
      "cell_type": "code",
      "source": [
        "# Filtrar para manter apenas quantidades maiores que zero\n",
        "df = df[df['Quantity'] > 0]"
      ],
      "metadata": {
        "id": "rCh5T5-tECZj"
      },
      "execution_count": null,
      "outputs": []
    },
    {
      "cell_type": "code",
      "source": [
        "# Confirmação de que não há valores inválidos.\n",
        "print(f\"Preços menores ou iguais a zero: {len(df[df['UnitPrice'] <= 0])}\")\n",
        "print(f\"Quantidades menores ou iguais a zero: {len(df[df['Quantity'] <= 0])}\")"
      ],
      "metadata": {
        "colab": {
          "base_uri": "https://localhost:8080/"
        },
        "id": "93pdRBpFEsp4",
        "outputId": "ebdf67b8-c81c-4fa0-e870-91756130eb12"
      },
      "execution_count": null,
      "outputs": [
        {
          "output_type": "stream",
          "name": "stdout",
          "text": [
            "Preços menores ou iguais a zero: 0\n",
            "Quantidades menores ou iguais a zero: 0\n"
          ]
        }
      ]
    },
    {
      "cell_type": "markdown",
      "source": [
        "# Etapa 04. Verifique se existem linhas duplicadas"
      ],
      "metadata": {
        "id": "GHFhicnvFV6S"
      }
    },
    {
      "cell_type": "code",
      "source": [
        "#Verificando duplicatas\n",
        "duplicadas = df[df.duplicated()]\n",
        "print(duplicadas)"
      ],
      "metadata": {
        "colab": {
          "base_uri": "https://localhost:8080/"
        },
        "collapsed": true,
        "id": "WCiz1QNAFb5x",
        "outputId": "c457ce59-1adf-4d32-82e8-b39e5b07b279"
      },
      "execution_count": null,
      "outputs": [
        {
          "output_type": "stream",
          "name": "stdout",
          "text": [
            "       InvoiceNo StockCode                        Description  Quantity  \\\n",
            "517       536409     21866        UNION JACK FLAG LUGGAGE TAG         1   \n",
            "527       536409     22866      HAND WARMER SCOTTY DOG DESIGN         1   \n",
            "537       536409     22900    SET 2 TEA TOWELS I LOVE LONDON          1   \n",
            "539       536409     22111       SCOTTIE DOG HOT WATER BOTTLE         1   \n",
            "555       536412     22327  ROUND SNACK BOXES SET OF 4 SKULLS         1   \n",
            "...          ...       ...                                ...       ...   \n",
            "541675    581538     22068        BLACK PIRATE TREASURE CHEST         1   \n",
            "541689    581538     23318     BOX OF 6 MINI VINTAGE CRACKERS         1   \n",
            "541692    581538     22992             REVOLVER WOODEN RULER          1   \n",
            "541699    581538     22694                       WICKER STAR          1   \n",
            "541701    581538     23343       JUMBO BAG VINTAGE CHRISTMAS          1   \n",
            "\n",
            "            InvoiceDate  UnitPrice  CustomerID         Country  \n",
            "517     12/1/2010 11:45       1.25     17908.0  United Kingdom  \n",
            "527     12/1/2010 11:45       2.10     17908.0  United Kingdom  \n",
            "537     12/1/2010 11:45       2.95     17908.0  United Kingdom  \n",
            "539     12/1/2010 11:45       4.95     17908.0  United Kingdom  \n",
            "555     12/1/2010 11:49       2.95     17920.0  United Kingdom  \n",
            "...                 ...        ...         ...             ...  \n",
            "541675  12/9/2011 11:34       0.39     14446.0  United Kingdom  \n",
            "541689  12/9/2011 11:34       2.49     14446.0  United Kingdom  \n",
            "541692  12/9/2011 11:34       1.95     14446.0  United Kingdom  \n",
            "541699  12/9/2011 11:34       2.10     14446.0  United Kingdom  \n",
            "541701  12/9/2011 11:34       2.08     14446.0  United Kingdom  \n",
            "\n",
            "[5192 rows x 8 columns]\n"
          ]
        }
      ]
    },
    {
      "cell_type": "code",
      "source": [
        "# Removendo as linhas duplicadas\n",
        "df = df.drop_duplicates()\n",
        "\n",
        "# Verificando se as duplicatas foram removidas\n",
        "print(f\"DataFrame após remover duplicatas: {df.shape}\")"
      ],
      "metadata": {
        "colab": {
          "base_uri": "https://localhost:8080/"
        },
        "id": "K6OnByUkSokA",
        "outputId": "790e35d4-a2e7-4add-daf5-83054c34eb84"
      },
      "execution_count": null,
      "outputs": [
        {
          "output_type": "stream",
          "name": "stdout",
          "text": [
            "DataFrame após remover duplicatas: (392692, 8)\n"
          ]
        }
      ]
    },
    {
      "cell_type": "markdown",
      "source": [
        "# Etapa 05. Tipos de dados da coluna"
      ],
      "metadata": {
        "id": "xwCgdEavTxAQ"
      }
    },
    {
      "cell_type": "code",
      "source": [
        "# Verificando o tipo de dado de cada coluna\n",
        "print(df.dtypes)"
      ],
      "metadata": {
        "colab": {
          "base_uri": "https://localhost:8080/"
        },
        "id": "9izNiMgPT0A-",
        "outputId": "ea23ad9b-cf04-4c5d-ffb6-4af7b028c046"
      },
      "execution_count": null,
      "outputs": [
        {
          "output_type": "stream",
          "name": "stdout",
          "text": [
            "InvoiceNo       object\n",
            "StockCode       object\n",
            "Description     object\n",
            "Quantity         int64\n",
            "InvoiceDate     object\n",
            "UnitPrice      float64\n",
            "CustomerID     float64\n",
            "Country         object\n",
            "dtype: object\n"
          ]
        }
      ]
    },
    {
      "cell_type": "code",
      "source": [
        "'''Ao converter para int, você garante que CustomerID será tratado de forma apropriada,\n",
        "sem valores nulos e com a possibilidade de ser utilizado em análises de maneira eficiente.'''\n",
        "# Convertendo 'CustomerID' para int\n",
        "df['CustomerID'] = df['CustomerID'].astype(int)\n",
        "\n",
        "# Verificar o tipo de dado após a conversão\n",
        "print(df['CustomerID'].dtype)"
      ],
      "metadata": {
        "colab": {
          "base_uri": "https://localhost:8080/"
        },
        "id": "VdnbgAg7WHuC",
        "outputId": "9f2ef6a4-ab89-42e2-d246-aec55846b5fc"
      },
      "execution_count": null,
      "outputs": [
        {
          "output_type": "stream",
          "name": "stdout",
          "text": [
            "int64\n"
          ]
        },
        {
          "output_type": "stream",
          "name": "stderr",
          "text": [
            "<ipython-input-426-6f05997f4ee8>:4: SettingWithCopyWarning: \n",
            "A value is trying to be set on a copy of a slice from a DataFrame.\n",
            "Try using .loc[row_indexer,col_indexer] = value instead\n",
            "\n",
            "See the caveats in the documentation: https://pandas.pydata.org/pandas-docs/stable/user_guide/indexing.html#returning-a-view-versus-a-copy\n",
            "  df['CustomerID'] = df['CustomerID'].astype(int)\n"
          ]
        }
      ]
    },
    {
      "cell_type": "code",
      "source": [
        "'''Ao tratar InvoiceDate como datetime, você facilita a análise e evita problemas de interpretação de dados temporais,\n",
        "garantindo que as operações de data sejam realizadas corretamente.'''\n",
        "# Convertendo 'InvoiceDate' para datetime\n",
        "df['InvoiceDate'] = pd.to_datetime(df['InvoiceDate'])\n",
        "\n",
        "# Verificar o tipo de dado após a conversão\n",
        "print(df['InvoiceDate'].dtype)"
      ],
      "metadata": {
        "colab": {
          "base_uri": "https://localhost:8080/"
        },
        "id": "xQ4HyeLhWgRS",
        "outputId": "f6f76f6c-5bd2-4fe5-fcbc-1f90df556718"
      },
      "execution_count": null,
      "outputs": [
        {
          "output_type": "stream",
          "name": "stdout",
          "text": [
            "datetime64[ns]\n"
          ]
        }
      ]
    },
    {
      "cell_type": "code",
      "source": [
        "#Resultados completos após a conversão\n",
        "print(df.dtypes)"
      ],
      "metadata": {
        "colab": {
          "base_uri": "https://localhost:8080/"
        },
        "id": "NbPUG1xxYb91",
        "outputId": "e32d0501-6176-4d0b-e1d8-c8695fe73f5b"
      },
      "execution_count": null,
      "outputs": [
        {
          "output_type": "stream",
          "name": "stdout",
          "text": [
            "InvoiceNo              object\n",
            "StockCode              object\n",
            "Description            object\n",
            "Quantity                int64\n",
            "InvoiceDate    datetime64[ns]\n",
            "UnitPrice             float64\n",
            "CustomerID              int64\n",
            "Country                object\n",
            "dtype: object\n"
          ]
        }
      ]
    },
    {
      "cell_type": "markdown",
      "source": [
        "# Etapa 06. Tratando os outliers"
      ],
      "metadata": {
        "id": "hIpQwkyFfUin"
      }
    },
    {
      "cell_type": "code",
      "source": [
        "#Verificando a existência de outliers\n",
        "df.plot.box()"
      ],
      "metadata": {
        "colab": {
          "base_uri": "https://localhost:8080/",
          "height": 447
        },
        "id": "3oQEhpMonFjo",
        "outputId": "ddd12b97-6ae2-44f1-b724-97f005ce5928"
      },
      "execution_count": null,
      "outputs": [
        {
          "output_type": "execute_result",
          "data": {
            "text/plain": [
              "<Axes: >"
            ]
          },
          "metadata": {},
          "execution_count": 429
        },
        {
          "output_type": "display_data",
          "data": {
            "text/plain": [
              "<Figure size 640x480 with 1 Axes>"
            ],
            "image/png": "[encoded data removed]"
          },
          "metadata": {}
        }
      ]
    },
    {
      "cell_type": "code",
      "source": [
        "#Retorna a quantidade total de outliers\n",
        "outliers_quantity = is_outlier(df['Quantity']).sum()\n",
        "outliers_unitprice = is_outlier(df['UnitPrice']).sum()\n",
        "\n",
        "print(f\"Outliers em Quantity: {outliers_quantity}\")\n",
        "print(f\"Outliers em UnitPrice: {outliers_unitprice}\")"
      ],
      "metadata": {
        "colab": {
          "base_uri": "https://localhost:8080/"
        },
        "id": "Qa2Ud-MN2pcY",
        "outputId": "158fd458-8e04-4166-9954-900016771c15"
      },
      "execution_count": null,
      "outputs": [
        {
          "output_type": "stream",
          "name": "stdout",
          "text": [
            "Outliers em Quantity: 25616\n",
            "Outliers em UnitPrice: 34112\n"
          ]
        }
      ]
    },
    {
      "cell_type": "code",
      "source": [
        "# Filtrando valores em que a quantidade do item na compra é superior a 10.000 e o preço unitário é maior que 5.000.\n",
        "df_cleaned = df[(df['Quantity'] <= 10000) & (df['UnitPrice'] <= 5000)]"
      ],
      "metadata": {
        "id": "5jD3pTgxDAOO"
      },
      "execution_count": null,
      "outputs": []
    },
    {
      "cell_type": "code",
      "source": [
        "print(f\"Linhas antes da remoção: {len(df)}\")\n",
        "print(f\"Linhas após a remoção: {len(df_cleaned)}\")\n",
        "\n",
        "# Checando se ainda existem outliers extremos\n",
        "print(f\"Máximo de Quantity após remoção: {df_cleaned['Quantity'].max()}\")\n",
        "print(f\"Máximo de UnitPrice após remoção: {df_cleaned['UnitPrice'].max()}\")"
      ],
      "metadata": {
        "colab": {
          "base_uri": "https://localhost:8080/"
        },
        "id": "pGAcf9QXDFM2",
        "outputId": "76a12b07-ddf3-4819-9bcb-c17be4f487b5"
      },
      "execution_count": null,
      "outputs": [
        {
          "output_type": "stream",
          "name": "stdout",
          "text": [
            "Linhas antes da remoção: 392692\n",
            "Linhas após a remoção: 392689\n",
            "Máximo de Quantity após remoção: 4800\n",
            "Máximo de UnitPrice após remoção: 4161.06\n"
          ]
        }
      ]
    },
    {
      "cell_type": "markdown",
      "source": [
        "# Etapa 07. Crie uma coluna adicional"
      ],
      "metadata": {
        "id": "Q8Er_m_aLS7v"
      }
    },
    {
      "cell_type": "code",
      "source": [
        "#Criando uma coluna adicional com o preço total da compra\n",
        "df['TotalPrice'] = df['Quantity'] * df['UnitPrice']\n",
        "\n",
        "# Verificando as primeiras linhas para confirmar\n",
        "print(df[['Quantity', 'UnitPrice', 'TotalPrice']].head())"
      ],
      "metadata": {
        "colab": {
          "base_uri": "https://localhost:8080/"
        },
        "id": "LIF3tUJhD0LW",
        "outputId": "80585aac-094a-4282-ffd0-082a0fac40d4"
      },
      "execution_count": null,
      "outputs": [
        {
          "output_type": "stream",
          "name": "stdout",
          "text": [
            "   Quantity  UnitPrice  TotalPrice\n",
            "0         6       2.55       15.30\n",
            "1         6       3.39       20.34\n",
            "2         8       2.75       22.00\n",
            "3         6       3.39       20.34\n",
            "4         6       3.39       20.34\n"
          ]
        }
      ]
    },
    {
      "cell_type": "markdown",
      "source": [
        "# Etapa 08. Última data"
      ],
      "metadata": {
        "id": "tpzscOMLL1aU"
      }
    },
    {
      "cell_type": "code",
      "source": [
        "'''Cálculo da data da última compra no dataset como um todo, pois vamos utilizar este valor como data de comparação\n",
        "para cálculo da recência.'''\n",
        "# Calculando a data da última compra utilizando a função max() na coluna InvoiceDate.\n",
        "last_purchase_date = df['InvoiceDate'].max()\n",
        "\n",
        "# Exibindo o resultado\n",
        "print(f'Data da última compra no dataset: {last_purchase_date}')\n"
      ],
      "metadata": {
        "colab": {
          "base_uri": "https://localhost:8080/"
        },
        "id": "FJ3b-ogULtP_",
        "outputId": "776c84f0-7861-4559-cc97-6c98e3f91900"
      },
      "execution_count": null,
      "outputs": [
        {
          "output_type": "stream",
          "name": "stdout",
          "text": [
            "Data da última compra no dataset: 2011-12-09 12:50:00\n"
          ]
        }
      ]
    },
    {
      "cell_type": "markdown",
      "source": [
        "# Etapa 09. Plotando gráficos"
      ],
      "metadata": {
        "id": "v256IJ67NQ68"
      }
    },
    {
      "cell_type": "code",
      "source": [
        "'''Top 10 países com maior valor em vendas'''\n",
        "\n",
        "# Agrupando por país e somando as vendas\n",
        "top_countries = df.groupby(\"Country\")[\"TotalPrice\"].sum().sort_values(ascending=False).head(10)\n",
        "\n",
        "# Criando o gráfico\n",
        "plt.figure(figsize=(12, 6))\n",
        "sns.barplot(x=top_countries.values, y=top_countries.index, hue=top_countries.index, palette=\"pink\", legend=False)\n",
        "\n",
        "# Adicionando título e rótulos\n",
        "plt.title(\"Top 10 Países com Maior Valor em Vendas\", fontsize=14)\n",
        "plt.xlabel(\"Valor Total de Vendas\")\n",
        "plt.ylabel(\"País\")\n",
        "\n",
        "# Exibir o gráfico\n",
        "plt.show()"
      ],
      "metadata": {
        "colab": {
          "base_uri": "https://localhost:8080/",
          "height": 491
        },
        "id": "jEh2hTSeNT7F",
        "outputId": "3959ae9f-cee2-4c14-f18c-588f8b0c1e43"
      },
      "execution_count": null,
      "outputs": [
        {
          "output_type": "display_data",
          "data": {
            "text/plain": [
              "<Figure size 1200x600 with 1 Axes>"
            ],
            "image/png": "[encoded data removed]"
          },
          "metadata": {}
        }
      ]
    },
    {
      "cell_type": "code",
      "source": [
        "'''Top 10 produtos mais vendidos'''\n",
        "\n",
        "# Agrupando por produto e somando as vendas\n",
        "top_Description = df.groupby(\"Description\")[\"TotalPrice\"].sum().sort_values(ascending=False).head(10)\n",
        "\n",
        "# Criando o gráfico\n",
        "plt.figure(figsize=(12, 6))\n",
        "sns.barplot(x=top_Description, y=top_Description.index, hue=top_Description.index, palette=\"pink\", legend=False)\n",
        "\n",
        "# Adicionando título e rótulos\n",
        "plt.title(\"Top 10 Produtos com Maior Valor em Vendas\", fontsize=14)\n",
        "plt.xlabel(\"Valor Total de Vendas\")\n",
        "plt.ylabel(\"Produto\")\n",
        "\n",
        "# Exibir o gráfico\n",
        "plt.show()"
      ],
      "metadata": {
        "colab": {
          "base_uri": "https://localhost:8080/",
          "height": 425
        },
        "id": "cXp5jxhqOgj9",
        "outputId": "aff44c0c-07b0-4888-c82e-652b2fd0d0fe"
      },
      "execution_count": null,
      "outputs": [
        {
          "output_type": "display_data",
          "data": {
            "text/plain": [
              "<Figure size 1200x600 with 1 Axes>"
            ],
            "image/png": "[encoded data removed]"
          },
          "metadata": {}
        }
      ]
    },
    {
      "cell_type": "code",
      "source": [
        "'''Valor de venda total por mês'''\n",
        "\n",
        "# Criar uma coluna com o ano e mês\n",
        "df[\"YearMonth\"] = df[\"InvoiceDate\"].dt.to_period(\"M\")\n",
        "\n",
        "# Agrupar por mês e somar as vendas\n",
        "monthly_sales = df.groupby(\"YearMonth\")[\"TotalPrice\"].sum()\n",
        "\n",
        "# Criar o gráfico\n",
        "plt.figure(figsize=(12, 6))\n",
        "sns.lineplot(x=monthly_sales.index.astype(str), y=monthly_sales.values, color=\"deeppink\")\n",
        "\n",
        "# Adicionando título e rótulos\n",
        "plt.title(\"Valor Total de Vendas por Mês\", fontsize=14)\n",
        "plt.xlabel(\"Mês\")\n",
        "plt.ylabel(\"Total de Vendas\")\n",
        "plt.xticks(rotation=45)  # Rotacionar os rótulos do eixo X\n",
        "\n",
        "# Exibir o gráfico\n",
        "plt.show()"
      ],
      "metadata": {
        "colab": {
          "base_uri": "https://localhost:8080/",
          "height": 568
        },
        "id": "VBK6l5V9Px1V",
        "outputId": "902d771b-7284-427c-a5c1-df1946277342"
      },
      "execution_count": null,
      "outputs": [
        {
          "output_type": "display_data",
          "data": {
            "text/plain": [
              "<Figure size 1200x600 with 1 Axes>"
            ],
            "image/png": "[encoded data removed]"
          },
          "metadata": {}
        }
      ]
    },
    {
      "cell_type": "code",
      "source": [
        "'''Top 10 países com maior valor de vendas mensais'''\n",
        "\n",
        "# Converter a coluna 'Month' para o formato de data\n",
        "sales_melted['Month'] = sales_melted['Month'].dt.to_timestamp()\n",
        "\n",
        "# Plotar o gráfico\n",
        "plt.figure(figsize=(14, 8))\n",
        "sns.lineplot(data=sales_melted, x=\"Month\", y=\"TotalSales\", hue=\"Country\", palette=\"tab10\", dashes=False)\n",
        "plt.title(\"Valor de Venda Total por Mês e por País (Top 10)\", fontsize=16)\n",
        "plt.xlabel(\"Mês\", fontsize=12)\n",
        "plt.ylabel(\"Valor Total de Vendas\", fontsize=12)\n",
        "plt.xticks(rotation=45)\n",
        "plt.legend(title=\"Países\", bbox_to_anchor=(1.05, 1), loc='upper left')\n",
        "plt.tight_layout()\n",
        "plt.show()"
      ],
      "metadata": {
        "colab": {
          "base_uri": "https://localhost:8080/",
          "height": 551
        },
        "id": "0dUOYY1mRqGY",
        "outputId": "dcac8c31-3711-4e75-ea41-232f02327578"
      },
      "execution_count": null,
      "outputs": [
        {
          "output_type": "display_data",
          "data": {
            "text/plain": [
              "<Figure size 1400x800 with 1 Axes>"
            ],
            "image/png": "[encoded data removed]"
          },
          "metadata": {}
        }
      ]
    },
    {
      "cell_type": "markdown",
      "source": [
        "# Etapa 10. Cálculo do RFM"
      ],
      "metadata": {
        "id": "w_HpN3e6WIo-"
      }
    },
    {
      "cell_type": "code",
      "source": [
        "# Certificando-se de que a coluna InvoiceDate está no formato datetime\n",
        "df['InvoiceDate'] = pd.to_datetime(df['InvoiceDate'])\n",
        "\n",
        "# Agrupar por cliente e pedido, obtendo a data e preço total do pedido\n",
        "df_grouped = df.groupby(['CustomerID', 'InvoiceNo']).agg(\n",
        "    TotalPrice=('TotalPrice', 'sum'),\n",
        "    InvoiceDate=('InvoiceDate', 'max')\n",
        ").reset_index()"
      ],
      "metadata": {
        "id": "SkbuyR_dWIKC"
      },
      "execution_count": null,
      "outputs": []
    },
    {
      "cell_type": "code",
      "source": [
        "# Agrupar por cliente para calcular o RFM\n",
        "# Recência (R): diferença em dias da última compra do cliente até a última compra no dataset\n",
        "last_purchase_date = df['InvoiceDate'].max()  # Última compra no dataset\n",
        "df_rfm = df_grouped.groupby('CustomerID').agg(\n",
        "    Recencia=('InvoiceDate', lambda x: (last_purchase_date - x.max()).days),\n",
        "    Frequencia=('InvoiceNo', 'nunique'),  # Número de compras por cliente\n",
        "    TicketMedio=('TotalPrice', 'mean')  # Preço médio das compras)\n",
        ").reset_index()\n",
        "\n",
        "# Exibindo o resultado\n",
        "print(df_rfm.head())"
      ],
      "metadata": {
        "colab": {
          "base_uri": "https://localhost:8080/"
        },
        "id": "1H3Qf_bEWb23",
        "outputId": "af2267c5-59cc-42c8-fe29-647c735e7c71"
      },
      "execution_count": null,
      "outputs": [
        {
          "output_type": "stream",
          "name": "stdout",
          "text": [
            "   CustomerID  Recencia  Frequencia   TicketMedio\n",
            "0       12346       325           1  77183.600000\n",
            "1       12347         1           7    615.714286\n",
            "2       12348        74           4    449.310000\n",
            "3       12349        18           1   1757.550000\n",
            "4       12350       309           1    334.400000\n"
          ]
        }
      ]
    },
    {
      "cell_type": "code",
      "source": [
        "# Gerando o CSV\n",
        "df_rfm.to_csv('clientes_rfm.csv', index=False)\n",
        "\n",
        "print(\"Arquivo CSV gerado com sucesso!\")"
      ],
      "metadata": {
        "colab": {
          "base_uri": "https://localhost:8080/"
        },
        "id": "W3NT_tR4YlSh",
        "outputId": "dacd6d12-27e5-40b4-c50a-daf22f8369c8"
      },
      "execution_count": null,
      "outputs": [
        {
          "output_type": "stream",
          "name": "stdout",
          "text": [
            "Arquivo CSV gerado com sucesso!\n"
          ]
        }
      ]
    },
    {
      "cell_type": "code",
      "source": [
        "import time\n",
        "\n",
        "print(\"\\n\" + \"=\"*50)\n",
        "print(\"🎓 PARABÉNS! Você concluiu o último módulo! 🎉\")\n",
        "print(\"Agora é hora de receber seu DIPLOMA! 📜\")\n",
        "print(\"=\"*50)\n",
        "\n",
        "# Pequena animação de contagem regressiva\n",
        "for i in range(3, 0, -1):\n",
        "    print(f\"Gerando diploma em... {i} segundos 🕒\")\n",
        "    time.sleep(1)\n",
        "\n",
        "print(\"\\n✅ DIPLOMA GERADO COM SUCESSO! 🎓\")\n",
        "print(\"Muito obrigada 🚀👏\\n\")"
      ],
      "metadata": {
        "colab": {
          "base_uri": "https://localhost:8080/"
        },
        "id": "Nc5PthYcd2W3",
        "outputId": "939c5718-148c-4451-c504-6fb63af0eddc"
      },
      "execution_count": null,
      "outputs": [
        {
          "output_type": "stream",
          "name": "stdout",
          "text": [
            "\n",
            "==================================================\n",
            "🎓 PARABÉNS! Você concluiu o último módulo! 🎉\n",
            "Agora é hora de receber seu DIPLOMA! 📜\n",
            "==================================================\n",
            "Gerando diploma em... 3 segundos 🕒\n",
            "Gerando diploma em... 2 segundos 🕒\n",
            "Gerando diploma em... 1 segundos 🕒\n",
            "\n",
            "✅ DIPLOMA GERADO COM SUCESSO! 🎓\n",
            "Muito obrigada DNC 🚀👏\n",
            "\n"
          ]
        }
      ]
    }
  ]
}